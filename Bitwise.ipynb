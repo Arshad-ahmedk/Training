{
 "cells": [
  {
   "metadata": {},
   "cell_type": "markdown",
   "source": [
    "Bitwise\n",
    "(Power of 2)"
   ],
   "id": "8c96baa751f1bae2"
  },
  {
   "cell_type": "code",
   "id": "initial_id",
   "metadata": {
    "collapsed": true,
    "ExecuteTime": {
     "end_time": "2025-08-12T03:47:29.465419Z",
     "start_time": "2025-08-12T03:47:29.449571Z"
    }
   },
   "source": [
    "def funct(n):\n",
    "    if n<=0:\n",
    "        return False\n",
    "    while n%2==0:\n",
    "        n=n//2\n",
    "    return n==1"
   ],
   "outputs": [],
   "execution_count": 1
  },
  {
   "metadata": {
    "ExecuteTime": {
     "end_time": "2025-08-12T03:48:07.242011Z",
     "start_time": "2025-08-12T03:48:07.228850Z"
    }
   },
   "cell_type": "code",
   "source": "print(funct(12))",
   "id": "a6dc07ff37d35075",
   "outputs": [
    {
     "name": "stdout",
     "output_type": "stream",
     "text": [
      "False\n"
     ]
    }
   ],
   "execution_count": 2
  },
  {
   "metadata": {
    "ExecuteTime": {
     "end_time": "2025-08-12T04:09:31.495949Z",
     "start_time": "2025-08-12T04:09:31.486933Z"
    }
   },
   "cell_type": "code",
   "source": [
    "def poww(n):\n",
    "    return n>0 and (n & (n-1))==0"
   ],
   "id": "e873bed167420e05",
   "outputs": [],
   "execution_count": 9
  },
  {
   "metadata": {
    "ExecuteTime": {
     "end_time": "2025-08-12T04:09:35.077671Z",
     "start_time": "2025-08-12T04:09:35.059897Z"
    }
   },
   "cell_type": "code",
   "source": "poww(12)",
   "id": "96d61721f3229bbb",
   "outputs": [
    {
     "data": {
      "text/plain": [
       "False"
      ]
     },
     "execution_count": 10,
     "metadata": {},
     "output_type": "execute_result"
    }
   ],
   "execution_count": 10
  },
  {
   "metadata": {
    "ExecuteTime": {
     "end_time": "2025-08-12T04:28:33.877202Z",
     "start_time": "2025-08-12T04:28:29.883047Z"
    }
   },
   "cell_type": "code",
   "source": [
    "n=int(input())\n",
    "for i in range(1,n+1):\n",
    "    print(1<<i, end=\" \")"
   ],
   "id": "8164ecc3850296a9",
   "outputs": [
    {
     "name": "stdout",
     "output_type": "stream",
     "text": [
      "2 4 8 16 32 "
     ]
    }
   ],
   "execution_count": 14
  },
  {
   "metadata": {
    "ExecuteTime": {
     "end_time": "2025-08-12T04:08:59.407148Z",
     "start_time": "2025-08-12T04:08:59.398227Z"
    }
   },
   "cell_type": "code",
   "source": [
    "def poww(n):\n",
    "    return ((n>>1)<<1)==n\n",
    "poww(5)"
   ],
   "id": "4f3003d81bac8691",
   "outputs": [
    {
     "data": {
      "text/plain": [
       "False"
      ]
     },
     "execution_count": 8,
     "metadata": {},
     "output_type": "execute_result"
    }
   ],
   "execution_count": 8
  },
  {
   "metadata": {
    "ExecuteTime": {
     "end_time": "2025-08-12T04:23:18.457687Z",
     "start_time": "2025-08-12T04:23:18.432203Z"
    }
   },
   "cell_type": "code",
   "source": [
    "n=[12,3,5,16]\n",
    "k=3\n",
    "for i in range(len(n)):\n",
    "    if((n[i]&(1<<(k-1)))!=0):\n",
    "        print(n[i])"
   ],
   "id": "644860d92152930a",
   "outputs": [
    {
     "name": "stdout",
     "output_type": "stream",
     "text": [
      "12\n",
      "5\n"
     ]
    }
   ],
   "execution_count": 13
  },
  {
   "metadata": {
    "ExecuteTime": {
     "end_time": "2025-08-12T04:50:47.700454Z",
     "start_time": "2025-08-12T04:50:37.765298Z"
    }
   },
   "cell_type": "code",
   "source": [
    "num = int(input(\"Enter a number: \"))\n",
    "k = int(input(\"Enter first bit position: \"))\n",
    "t = int(input(\"Enter second bit position: \"))\n",
    "mask=0\n",
    "mask ^=(1<<(k-1))\n",
    "mask ^=(1<<(t-1))# Mask with both bits set\n",
    "\n",
    "if (num & (mask)) ==mask:\n",
    "    print(\"Both positions have 1\")\n",
    "else:\n",
    "    print(\"At least one position has 0\")\n"
   ],
   "id": "4951bada1234b173",
   "outputs": [
    {
     "name": "stdout",
     "output_type": "stream",
     "text": [
      "At least one position has 0\n"
     ]
    }
   ],
   "execution_count": 18
  }
 ],
 "metadata": {
  "kernelspec": {
   "display_name": "Python 3",
   "language": "python",
   "name": "python3"
  },
  "language_info": {
   "codemirror_mode": {
    "name": "ipython",
    "version": 2
   },
   "file_extension": ".py",
   "mimetype": "text/x-python",
   "name": "python",
   "nbconvert_exporter": "python",
   "pygments_lexer": "ipython2",
   "version": "2.7.6"
  }
 },
 "nbformat": 4,
 "nbformat_minor": 5
}
